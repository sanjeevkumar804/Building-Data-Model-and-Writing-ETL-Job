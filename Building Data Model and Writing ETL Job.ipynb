{
 "cells": [
  {
   "cell_type": "markdown",
   "id": "366f0ec0",
   "metadata": {},
   "source": [
    "# Lesson 1 Exercise 1: Creating a table with postgreSQL"
   ]
  },
  {
   "cell_type": "code",
   "execution_count": null,
   "id": "14c4ed1d",
   "metadata": {},
   "outputs": [],
   "source": [
    "pip install psycopg2"
   ]
  },
  {
   "cell_type": "markdown",
   "id": "bb9a885a",
   "metadata": {},
   "source": [
    "### Import the library"
   ]
  },
  {
   "cell_type": "code",
   "execution_count": null,
   "id": "76865a34",
   "metadata": {},
   "outputs": [],
   "source": [
    "import psycopg2"
   ]
  },
  {
   "cell_type": "markdown",
   "id": "b10253e2",
   "metadata": {},
   "source": [
    "### Create a connection to the database"
   ]
  },
  {
   "cell_type": "code",
   "execution_count": null,
   "id": "fd3728a5",
   "metadata": {},
   "outputs": [],
   "source": [
    "try:\n",
    "    conn = psycopg2.connect(\"host=127.0.0.1 dbname=postgres user=postgres password=root\")\n",
    "except psycopg2.error as e:\n",
    "    print(\"Error: not connected with db\")\n",
    "    print(e)"
   ]
  },
  {
   "cell_type": "markdown",
   "id": "2eb34875",
   "metadata": {},
   "source": [
    "### cursor:-use the connection to get a cursor that can be used to execute queries."
   ]
  },
  {
   "cell_type": "code",
   "execution_count": null,
   "id": "d308ddbd",
   "metadata": {},
   "outputs": [],
   "source": [
    "try:\n",
    "    cur = conn.cursor()\n",
    "except psycopg2.Error as e:\n",
    "    print(\"Error:could not get cursor\")\n",
    "    print(e)"
   ]
  },
  {
   "cell_type": "markdown",
   "id": "b09ecd35",
   "metadata": {},
   "source": [
    "### Set automatic commit to be true so that each action is committed without having to call conn.commit() after each command."
   ]
  },
  {
   "cell_type": "code",
   "execution_count": null,
   "id": "33fedbb1",
   "metadata": {},
   "outputs": [],
   "source": [
    "conn.set_session(autocommit=True)"
   ]
  },
  {
   "cell_type": "markdown",
   "id": "32d7f2b9",
   "metadata": {},
   "source": [
    "### create db to do work "
   ]
  },
  {
   "cell_type": "code",
   "execution_count": null,
   "id": "b26c182b",
   "metadata": {},
   "outputs": [],
   "source": [
    "try:\n",
    "    cur.execute(\"create database Demodb\")\n",
    "except psycopg2.error as e:\n",
    "    print(e)"
   ]
  },
  {
   "cell_type": "markdown",
   "id": "27385b8b",
   "metadata": {},
   "source": [
    "### Add the database name in the connect statement.let's close our connection to the default db,reconnect to the newdb db,and get new cursor"
   ]
  },
  {
   "cell_type": "code",
   "execution_count": null,
   "id": "05d5d526",
   "metadata": {},
   "outputs": [],
   "source": [
    "try:\n",
    "    conn.close()\n",
    "except psycopg2.error as e:\n",
    "    print(e)\n",
    "    \n",
    "try:\n",
    "    conn = psycopg2.connect(\"host=127.0.0.1 dbname=demodb user=postgres password=root\")\n",
    "except psycopg2.error as e:\n",
    "    print(\"Error: not connected with Demodb\")\n",
    "    print(e)\n",
    "    \n",
    "try:\n",
    "    cur = conn.cursor()\n",
    "except psycopg2.Error as e:\n",
    "    print(\"Error:could not get cursor\")\n",
    "    print(e)\n",
    "    \n",
    "conn.set_session(autocommit=True)"
   ]
  },
  {
   "cell_type": "markdown",
   "id": "7c7f5ab5",
   "metadata": {},
   "source": [
    "### Create table for students which includes below column"
   ]
  },
  {
   "cell_type": "code",
   "execution_count": null,
   "id": "5abe8fbd",
   "metadata": {},
   "outputs": [],
   "source": [
    "try:\n",
    "    cur.execute(\"create table if not exists students(student_id int, name varchar, age int, gender varchar, subject varchar, marks int);\")\n",
    "except psycopg2.error as e:\n",
    "    print(\"Error: Issue creating table\")\n",
    "    print(e)"
   ]
  },
  {
   "cell_type": "markdown",
   "id": "ff9d9e3d",
   "metadata": {},
   "source": [
    "### Insert data into students db"
   ]
  },
  {
   "cell_type": "code",
   "execution_count": null,
   "id": "9dbc91cd",
   "metadata": {},
   "outputs": [],
   "source": [
    "try:\n",
    "    cur.execute(\"insert into students(student_id, name, age, gender, subject, marks) \\\n",
    "    values(%s, %s, %s, %s, %s, %s)\",\\\n",
    "               (1, \"Raj\", 23, \"Male\", \"Python\", 85))\n",
    "except psycopg2.Error as e:\n",
    "    print(\"Error:Inserting Rows\")\n",
    "    print(e)\n",
    "    \n",
    "try:\n",
    "    cur.execute(\"insert into students(student_id, name, age, gender, subject, marks) \\\n",
    "    values(%s, %s, %s, %s, %s, %s)\",\\\n",
    "               (2, \"Priya\", 24, \"Female\", \"Python\", 86))\n",
    "except psycopg2.Error as e:\n",
    "    print(\"Error:Inserting Rows\")\n",
    "    print(e)"
   ]
  },
  {
   "cell_type": "markdown",
   "id": "4e7012ad",
   "metadata": {},
   "source": [
    "### Validate your data was inserted into table."
   ]
  },
  {
   "cell_type": "code",
   "execution_count": null,
   "id": "64c94b21",
   "metadata": {},
   "outputs": [],
   "source": [
    "try:\n",
    "    cur.execute(\"select * from students;\")\n",
    "except psycopg2.Error as e:\n",
    "    print(\"Error: select *\")\n",
    "    print(e)\n",
    "    \n",
    "row = cur.fetchone()\n",
    "while row:\n",
    "    print(row)\n",
    "    row = cur.fetchone()"
   ]
  },
  {
   "cell_type": "markdown",
   "id": "4b90aced",
   "metadata": {},
   "source": [
    "### And finally close your cursor and connection"
   ]
  },
  {
   "cell_type": "code",
   "execution_count": null,
   "id": "52ae6aa0",
   "metadata": {},
   "outputs": [],
   "source": [
    "cur.close()\n",
    "conn.close()"
   ]
  },
  {
   "cell_type": "markdown",
   "id": "ff888dd3",
   "metadata": {},
   "source": [
    "# project"
   ]
  },
  {
   "cell_type": "markdown",
   "id": "eccd1b0e",
   "metadata": {},
   "source": [
    "### Building Data Model and Writing ETL Job for IPL Dataset"
   ]
  },
  {
   "cell_type": "code",
   "execution_count": null,
   "id": "d82d9e06",
   "metadata": {},
   "outputs": [],
   "source": [
    "pip install pandas"
   ]
  },
  {
   "cell_type": "code",
   "execution_count": 1,
   "id": "d244315a",
   "metadata": {},
   "outputs": [],
   "source": [
    "import psycopg2\n",
    "import pandas as pd"
   ]
  },
  {
   "cell_type": "markdown",
   "id": "cc279022",
   "metadata": {},
   "source": [
    "### Create db"
   ]
  },
  {
   "cell_type": "code",
   "execution_count": 3,
   "id": "61cc8529",
   "metadata": {},
   "outputs": [],
   "source": [
    "def create_database():\n",
    "    # connect to default database\n",
    "    # conn = psycopg2.connect(\"host=127.0.0.1 dbname=ipldb user=ipl password=ipl\")\n",
    "    conn = psycopg2.connect(\"host=127.0.0.1 dbname=postgres user=postgres password=root\")\n",
    "    conn.set_session(autocommit=True)\n",
    "    cur = conn.cursor()\n",
    "    \n",
    "    # create sparkify db with UTFs encoding \n",
    "    cur.execute(\"DROP DATABASE ipl\")\n",
    "    cur.execute(\"create DATABASE ipl\")\n",
    "    \n",
    "    #close connection to default db\n",
    "    conn.close()\n",
    "    \n",
    "    # connect to sparkify db\n",
    "    conn = psycopg2.connect(\"host=127.0.0.1 dbname=ipl user=postgres password=root\")\n",
    "    cur = conn.cursor()\n",
    "    \n",
    "    return cur, conn"
   ]
  },
  {
   "cell_type": "code",
   "execution_count": null,
   "id": "990784c5",
   "metadata": {},
   "outputs": [],
   "source": [
    "def drop_tables(cur, conn):\n",
    "    for query in drop_table_queries:\n",
    "        cur.execute(query)\n",
    "        conn.commit()"
   ]
  },
  {
   "cell_type": "code",
   "execution_count": null,
   "id": "db5daf7f",
   "metadata": {},
   "outputs": [],
   "source": [
    "def create_table(cur,conn):\n",
    "    for query in create_table_queries:\n",
    "        cur.execute(query)\n",
    "        conn.commit()"
   ]
  },
  {
   "cell_type": "markdown",
   "id": "07ec1c2a",
   "metadata": {},
   "source": [
    "### load data IPL_Sold_players_2013_23"
   ]
  },
  {
   "cell_type": "code",
   "execution_count": 4,
   "id": "e21095bb",
   "metadata": {},
   "outputs": [],
   "source": [
    "IPL_Sold_players_2013_23 = pd.read_csv(\"Desktop/IPL_Sold_players_2013_23.csv\")"
   ]
  },
  {
   "cell_type": "code",
   "execution_count": 5,
   "id": "1b98b7c4",
   "metadata": {},
   "outputs": [
    {
     "data": {
      "text/html": [
       "<div>\n",
       "<style scoped>\n",
       "    .dataframe tbody tr th:only-of-type {\n",
       "        vertical-align: middle;\n",
       "    }\n",
       "\n",
       "    .dataframe tbody tr th {\n",
       "        vertical-align: top;\n",
       "    }\n",
       "\n",
       "    .dataframe thead th {\n",
       "        text-align: right;\n",
       "    }\n",
       "</style>\n",
       "<table border=\"1\" class=\"dataframe\">\n",
       "  <thead>\n",
       "    <tr style=\"text-align: right;\">\n",
       "      <th></th>\n",
       "      <th>Season</th>\n",
       "      <th>Name</th>\n",
       "      <th>Nationality</th>\n",
       "      <th>Type</th>\n",
       "      <th>Team</th>\n",
       "      <th>Price</th>\n",
       "    </tr>\n",
       "  </thead>\n",
       "  <tbody>\n",
       "    <tr>\n",
       "      <th>0</th>\n",
       "      <td>2023</td>\n",
       "      <td>Ajinkya Rahane</td>\n",
       "      <td>Indian</td>\n",
       "      <td>Batter</td>\n",
       "      <td>Chennai Super Kings</td>\n",
       "      <td>50,00,000</td>\n",
       "    </tr>\n",
       "    <tr>\n",
       "      <th>1</th>\n",
       "      <td>2023</td>\n",
       "      <td>Bhagath Varma</td>\n",
       "      <td>Indian</td>\n",
       "      <td>All-Rounder</td>\n",
       "      <td>Chennai Super Kings</td>\n",
       "      <td>20,00,000</td>\n",
       "    </tr>\n",
       "    <tr>\n",
       "      <th>2</th>\n",
       "      <td>2023</td>\n",
       "      <td>Kyle Jamieson</td>\n",
       "      <td>Overseas</td>\n",
       "      <td>Bowler</td>\n",
       "      <td>Chennai Super Kings</td>\n",
       "      <td>1,00,00,000</td>\n",
       "    </tr>\n",
       "    <tr>\n",
       "      <th>3</th>\n",
       "      <td>2023</td>\n",
       "      <td>Ajay Mandal</td>\n",
       "      <td>Indian</td>\n",
       "      <td>All-Rounder</td>\n",
       "      <td>Chennai Super Kings</td>\n",
       "      <td>20,00,000</td>\n",
       "    </tr>\n",
       "    <tr>\n",
       "      <th>4</th>\n",
       "      <td>2023</td>\n",
       "      <td>Nishant Sindhu</td>\n",
       "      <td>Indian</td>\n",
       "      <td>All-Rounder</td>\n",
       "      <td>Chennai Super Kings</td>\n",
       "      <td>60,00,000</td>\n",
       "    </tr>\n",
       "  </tbody>\n",
       "</table>\n",
       "</div>"
      ],
      "text/plain": [
       "   Season             Name Nationality          Type                  Team  \\\n",
       "0    2023  Ajinkya Rahane      Indian        Batter    Chennai Super Kings   \n",
       "1    2023   Bhagath Varma      Indian   All-Rounder    Chennai Super Kings   \n",
       "2    2023   Kyle Jamieson    Overseas        Bowler    Chennai Super Kings   \n",
       "3    2023     Ajay Mandal      Indian   All-Rounder    Chennai Super Kings   \n",
       "4    2023  Nishant Sindhu      Indian   All-Rounder    Chennai Super Kings   \n",
       "\n",
       "          Price  \n",
       "0    50,00,000   \n",
       "1    20,00,000   \n",
       "2  1,00,00,000   \n",
       "3    20,00,000   \n",
       "4    60,00,000   "
      ]
     },
     "execution_count": 5,
     "metadata": {},
     "output_type": "execute_result"
    }
   ],
   "source": [
    "IPL_Sold_players_2013_23.head()"
   ]
  },
  {
   "cell_type": "markdown",
   "id": "090fe7a7",
   "metadata": {},
   "source": [
    "### clean data"
   ]
  },
  {
   "cell_type": "code",
   "execution_count": null,
   "id": "efdb6fa1",
   "metadata": {},
   "outputs": [],
   "source": [
    "# IPL_Sold_players_2013_23_clean = IPL_Sold_players_2013_23[['Session','Name','Nationality','Type','price']]"
   ]
  },
  {
   "cell_type": "markdown",
   "id": "845f40b4",
   "metadata": {},
   "source": [
    "### Load data IPL_2022_23_Sold_Players"
   ]
  },
  {
   "cell_type": "code",
   "execution_count": 6,
   "id": "0d5647eb",
   "metadata": {},
   "outputs": [],
   "source": [
    "IPL_Sold_players_2022_23 = pd.read_csv(\"Desktop/IPL_2023-22_Sold_Players.csv\")"
   ]
  },
  {
   "cell_type": "code",
   "execution_count": 7,
   "id": "c4c483c6",
   "metadata": {},
   "outputs": [
    {
     "data": {
      "text/html": [
       "<div>\n",
       "<style scoped>\n",
       "    .dataframe tbody tr th:only-of-type {\n",
       "        vertical-align: middle;\n",
       "    }\n",
       "\n",
       "    .dataframe tbody tr th {\n",
       "        vertical-align: top;\n",
       "    }\n",
       "\n",
       "    .dataframe thead th {\n",
       "        text-align: right;\n",
       "    }\n",
       "</style>\n",
       "<table border=\"1\" class=\"dataframe\">\n",
       "  <thead>\n",
       "    <tr style=\"text-align: right;\">\n",
       "      <th></th>\n",
       "      <th>Season</th>\n",
       "      <th>Name</th>\n",
       "      <th>Nationality</th>\n",
       "      <th>Type</th>\n",
       "      <th>Team</th>\n",
       "      <th>Price</th>\n",
       "    </tr>\n",
       "  </thead>\n",
       "  <tbody>\n",
       "    <tr>\n",
       "      <th>0</th>\n",
       "      <td>2023</td>\n",
       "      <td>Ajinkya Rahane</td>\n",
       "      <td>Indian</td>\n",
       "      <td>Batter</td>\n",
       "      <td>Chennai Super Kings</td>\n",
       "      <td>50,00,000</td>\n",
       "    </tr>\n",
       "    <tr>\n",
       "      <th>1</th>\n",
       "      <td>2023</td>\n",
       "      <td>Bhagath Varma</td>\n",
       "      <td>Indian</td>\n",
       "      <td>All-Rounder</td>\n",
       "      <td>Chennai Super Kings</td>\n",
       "      <td>20,00,000</td>\n",
       "    </tr>\n",
       "    <tr>\n",
       "      <th>2</th>\n",
       "      <td>2023</td>\n",
       "      <td>Kyle Jamieson</td>\n",
       "      <td>Overseas</td>\n",
       "      <td>Bowler</td>\n",
       "      <td>Chennai Super Kings</td>\n",
       "      <td>1,00,00,000</td>\n",
       "    </tr>\n",
       "    <tr>\n",
       "      <th>3</th>\n",
       "      <td>2023</td>\n",
       "      <td>Ajay Mandal</td>\n",
       "      <td>Indian</td>\n",
       "      <td>All-Rounder</td>\n",
       "      <td>Chennai Super Kings</td>\n",
       "      <td>20,00,000</td>\n",
       "    </tr>\n",
       "    <tr>\n",
       "      <th>4</th>\n",
       "      <td>2023</td>\n",
       "      <td>Nishant Sindhu</td>\n",
       "      <td>Indian</td>\n",
       "      <td>All-Rounder</td>\n",
       "      <td>Chennai Super Kings</td>\n",
       "      <td>60,00,000</td>\n",
       "    </tr>\n",
       "  </tbody>\n",
       "</table>\n",
       "</div>"
      ],
      "text/plain": [
       "   Season             Name Nationality          Type                  Team  \\\n",
       "0    2023  Ajinkya Rahane      Indian        Batter    Chennai Super Kings   \n",
       "1    2023   Bhagath Varma      Indian   All-Rounder    Chennai Super Kings   \n",
       "2    2023   Kyle Jamieson    Overseas        Bowler    Chennai Super Kings   \n",
       "3    2023     Ajay Mandal      Indian   All-Rounder    Chennai Super Kings   \n",
       "4    2023  Nishant Sindhu      Indian   All-Rounder    Chennai Super Kings   \n",
       "\n",
       "          Price  \n",
       "0    50,00,000   \n",
       "1    20,00,000   \n",
       "2  1,00,00,000   \n",
       "3    20,00,000   \n",
       "4    60,00,000   "
      ]
     },
     "execution_count": 7,
     "metadata": {},
     "output_type": "execute_result"
    }
   ],
   "source": [
    "IPL_Sold_players_2022_23.head()"
   ]
  },
  {
   "cell_type": "markdown",
   "id": "2ff70bd0",
   "metadata": {},
   "source": [
    "### clean data"
   ]
  },
  {
   "cell_type": "code",
   "execution_count": 8,
   "id": "b44f93bd",
   "metadata": {},
   "outputs": [
    {
     "data": {
      "text/plain": [
       "Index(['Season', 'Name', 'Nationality', 'Type', 'Team', 'Price'], dtype='object')"
      ]
     },
     "execution_count": 8,
     "metadata": {},
     "output_type": "execute_result"
    }
   ],
   "source": [
    "IPL_Sold_players_2022_23.columns"
   ]
  },
  {
   "cell_type": "code",
   "execution_count": null,
   "id": "8f200772",
   "metadata": {},
   "outputs": [],
   "source": [
    "# IPL_2022_23_Sold_Players_clean = IPL_2022_23_Sold_Players.drop(['Nationality'], axis=1)"
   ]
  },
  {
   "cell_type": "markdown",
   "id": "978db3bb",
   "metadata": {},
   "source": [
    "## Create Databases"
   ]
  },
  {
   "cell_type": "code",
   "execution_count": 9,
   "id": "1ac73fa0",
   "metadata": {},
   "outputs": [],
   "source": [
    "cur, conn = create_database()"
   ]
  },
  {
   "cell_type": "markdown",
   "id": "96337dab",
   "metadata": {},
   "source": [
    "### create table ipl_sold_player_2013_23"
   ]
  },
  {
   "cell_type": "code",
   "execution_count": 10,
   "id": "b447d83e",
   "metadata": {},
   "outputs": [],
   "source": [
    "ipl_sold_player_2013_23 = (\"\"\"create table if not exists ipl_sold_player_2013_23(\n",
    "Season varchar,\n",
    "Name varchar,\n",
    "Nationality varchar,\n",
    "Type varchar,\n",
    "Team varchar,\n",
    "Price varchar\n",
    ")\"\"\")"
   ]
  },
  {
   "cell_type": "markdown",
   "id": "27c81b57",
   "metadata": {},
   "source": [
    "### commit the change"
   ]
  },
  {
   "cell_type": "code",
   "execution_count": 11,
   "id": "f2d39002",
   "metadata": {},
   "outputs": [],
   "source": [
    "cur.execute(ipl_sold_player_2013_23)\n",
    "conn.commit()"
   ]
  },
  {
   "cell_type": "markdown",
   "id": "09488e4d",
   "metadata": {},
   "source": [
    "### Insert data into ipl_sold_player_2013_23"
   ]
  },
  {
   "cell_type": "code",
   "execution_count": 12,
   "id": "87f3760f",
   "metadata": {},
   "outputs": [],
   "source": [
    "ipl_sold_2013_23 = (\"\"\"insert into ipl_sold_player_2013_23(\n",
    "Season,\n",
    "Name,\n",
    "Nationality,\n",
    "Type,\n",
    "Team,\n",
    "Price)\n",
    "values(%s, %s, %s, %s, %s, %s)\n",
    "\"\"\")"
   ]
  },
  {
   "cell_type": "code",
   "execution_count": 13,
   "id": "89933470",
   "metadata": {},
   "outputs": [],
   "source": [
    "for i, row in IPL_Sold_players_2013_23.iterrows():\n",
    "    cur.execute(ipl_sold_2013_23, list(row))   "
   ]
  },
  {
   "cell_type": "code",
   "execution_count": 14,
   "id": "d2441995",
   "metadata": {},
   "outputs": [],
   "source": [
    "conn.commit()"
   ]
  },
  {
   "cell_type": "markdown",
   "id": "f5dee9ec",
   "metadata": {},
   "source": [
    "### Create table IPL_2022_23_Sold_Players"
   ]
  },
  {
   "cell_type": "code",
   "execution_count": 17,
   "id": "191f7ad1",
   "metadata": {},
   "outputs": [],
   "source": [
    "IPL_2022_23_Sold_Players = (\"\"\"create table if not exists IPL_2022_23_Sold_Players(\n",
    "Season varchar,\n",
    "Name varchar,\n",
    "Nationality varchar,\n",
    "Type varchar,\n",
    "Team varchar,\n",
    "Price varchar\n",
    ")\"\"\")\n",
    "cur.execute(IPL_2022_23_Sold_Players)\n",
    "conn.commit()"
   ]
  },
  {
   "cell_type": "markdown",
   "id": "33a63b20",
   "metadata": {},
   "source": [
    "### insert data into IPL_2022_23_Sold_Players"
   ]
  },
  {
   "cell_type": "code",
   "execution_count": 18,
   "id": "db5b19b6",
   "metadata": {},
   "outputs": [],
   "source": [
    "ipl_sold_2022_23 = (\"\"\"insert into IPL_2022_23_Sold_Players(\n",
    "Season,\n",
    "Name,\n",
    "Nationality,\n",
    "Type,\n",
    "Team,\n",
    "Price)\n",
    "values(%s, %s, %s, %s, %s, %s)\n",
    "\"\"\")"
   ]
  },
  {
   "cell_type": "code",
   "execution_count": 19,
   "id": "01147143",
   "metadata": {},
   "outputs": [],
   "source": [
    "for i, row in IPL_Sold_players_2022_23.iterrows():\n",
    "    cur.execute(ipl_sold_2022_23, list(row))"
   ]
  },
  {
   "cell_type": "code",
   "execution_count": 20,
   "id": "8774a79e",
   "metadata": {},
   "outputs": [],
   "source": [
    "conn.commit()"
   ]
  }
 ],
 "metadata": {
  "kernelspec": {
   "display_name": "Python 3 (ipykernel)",
   "language": "python",
   "name": "python3"
  },
  "language_info": {
   "codemirror_mode": {
    "name": "ipython",
    "version": 3
   },
   "file_extension": ".py",
   "mimetype": "text/x-python",
   "name": "python",
   "nbconvert_exporter": "python",
   "pygments_lexer": "ipython3",
   "version": "3.11.1"
  }
 },
 "nbformat": 4,
 "nbformat_minor": 5
}
